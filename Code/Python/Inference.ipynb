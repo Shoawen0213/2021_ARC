{
 "cells": [
  {
   "cell_type": "code",
   "execution_count": 18,
   "metadata": {},
   "outputs": [],
   "source": [
    "target_wav = \"Recording_0724\"  \n",
    "infer_wav = target_wav[:-4]"
   ]
  },
  {
   "cell_type": "code",
   "execution_count": 21,
   "metadata": {},
   "outputs": [],
   "source": [
    "import os\n",
    "import h5py\n",
    "import numpy as np\n",
    "from scipy.ndimage import shift\n",
    "import soundfile as sf\n",
    "import torch\n",
    "import torch.nn as nn\n",
    "from scipy.signal import medfilt\n",
    "import datetime\n",
    "from pyannote.database.util import load_rttm\n",
    "import speech_recognition as sr\n",
    "\n",
    "from eend.pytorch_backend.models import TransformerModel, TransformerCNNModel\n",
    "from eend import feature\n",
    "from eend import kaldi_data\n",
    "import sys\n",
    "\n",
    "import time "
   ]
  },
  {
   "cell_type": "code",
   "execution_count": 22,
   "metadata": {
    "scrolled": false
   },
   "outputs": [
    {
     "data": {
      "text/plain": [
       "DataParallel(\n",
       "  (module): TransformerModel(\n",
       "    (encoder): Linear(in_features=345, out_features=256, bias=True)\n",
       "    (encoder_norm): LayerNorm((256,), eps=1e-05, elementwise_affine=True)\n",
       "    (transformer_encoder): TransformerEncoder(\n",
       "      (layers): ModuleList(\n",
       "        (0): TransformerEncoderLayer(\n",
       "          (self_attn): MultiheadAttention(\n",
       "            (out_proj): _LinearWithBias(in_features=256, out_features=256, bias=True)\n",
       "          )\n",
       "          (linear1): Linear(in_features=256, out_features=2048, bias=True)\n",
       "          (dropout): Dropout(p=0.5, inplace=False)\n",
       "          (linear2): Linear(in_features=2048, out_features=256, bias=True)\n",
       "          (norm1): LayerNorm((256,), eps=1e-05, elementwise_affine=True)\n",
       "          (norm2): LayerNorm((256,), eps=1e-05, elementwise_affine=True)\n",
       "          (dropout1): Dropout(p=0.5, inplace=False)\n",
       "          (dropout2): Dropout(p=0.5, inplace=False)\n",
       "        )\n",
       "        (1): TransformerEncoderLayer(\n",
       "          (self_attn): MultiheadAttention(\n",
       "            (out_proj): _LinearWithBias(in_features=256, out_features=256, bias=True)\n",
       "          )\n",
       "          (linear1): Linear(in_features=256, out_features=2048, bias=True)\n",
       "          (dropout): Dropout(p=0.5, inplace=False)\n",
       "          (linear2): Linear(in_features=2048, out_features=256, bias=True)\n",
       "          (norm1): LayerNorm((256,), eps=1e-05, elementwise_affine=True)\n",
       "          (norm2): LayerNorm((256,), eps=1e-05, elementwise_affine=True)\n",
       "          (dropout1): Dropout(p=0.5, inplace=False)\n",
       "          (dropout2): Dropout(p=0.5, inplace=False)\n",
       "        )\n",
       "        (2): TransformerEncoderLayer(\n",
       "          (self_attn): MultiheadAttention(\n",
       "            (out_proj): _LinearWithBias(in_features=256, out_features=256, bias=True)\n",
       "          )\n",
       "          (linear1): Linear(in_features=256, out_features=2048, bias=True)\n",
       "          (dropout): Dropout(p=0.5, inplace=False)\n",
       "          (linear2): Linear(in_features=2048, out_features=256, bias=True)\n",
       "          (norm1): LayerNorm((256,), eps=1e-05, elementwise_affine=True)\n",
       "          (norm2): LayerNorm((256,), eps=1e-05, elementwise_affine=True)\n",
       "          (dropout1): Dropout(p=0.5, inplace=False)\n",
       "          (dropout2): Dropout(p=0.5, inplace=False)\n",
       "        )\n",
       "        (3): TransformerEncoderLayer(\n",
       "          (self_attn): MultiheadAttention(\n",
       "            (out_proj): _LinearWithBias(in_features=256, out_features=256, bias=True)\n",
       "          )\n",
       "          (linear1): Linear(in_features=256, out_features=2048, bias=True)\n",
       "          (dropout): Dropout(p=0.5, inplace=False)\n",
       "          (linear2): Linear(in_features=2048, out_features=256, bias=True)\n",
       "          (norm1): LayerNorm((256,), eps=1e-05, elementwise_affine=True)\n",
       "          (norm2): LayerNorm((256,), eps=1e-05, elementwise_affine=True)\n",
       "          (dropout1): Dropout(p=0.5, inplace=False)\n",
       "          (dropout2): Dropout(p=0.5, inplace=False)\n",
       "        )\n",
       "      )\n",
       "    )\n",
       "    (decoder): Linear(in_features=256, out_features=2, bias=True)\n",
       "  )\n",
       ")"
      ]
     },
     "execution_count": 22,
     "metadata": {},
     "output_type": "execute_result"
    }
   ],
   "source": [
    "os.environ[\"CUDA_VISIBLE_DEVICES\"] = \"1\"\n",
    "\n",
    "\n",
    "def _gen_chunk_indices(data_len, chunk_size):\n",
    "    step = chunk_size\n",
    "    start = 0\n",
    "    while start < data_len:\n",
    "        end = min(data_len, start + chunk_size)\n",
    "        yield start, end\n",
    "        start += step\n",
    "\n",
    "\n",
    "in_size = feature.get_input_dim(\n",
    "            200,\n",
    "            7,\n",
    "            \"logmel23_mn\")\n",
    "\n",
    "## TransformerCNNModel or TransformerModel\n",
    "model = TransformerModel(\n",
    "            n_speakers=2,\n",
    "            in_size=in_size,\n",
    "            n_units=256,\n",
    "            n_heads=4,\n",
    "            n_layers=4,\n",
    "            has_pos=False\n",
    "            )\n",
    "\n",
    "device = torch.device(\"cuda\")\n",
    "if device.type == \"cuda\":\n",
    "    model = nn.DataParallel(model, list(range(1)))\n",
    "model = model.to(device)\n",
    "\n",
    "model.load_state_dict(torch.load(\"./model/transformer334.th\"))\n",
    "model.eval()"
   ]
  },
  {
   "cell_type": "code",
   "execution_count": 25,
   "metadata": {},
   "outputs": [
    {
     "data": {
      "text/plain": [
       "<_io.BufferedRandom name='./demo_file/Recording_.wav'>"
      ]
     },
     "execution_count": 25,
     "metadata": {},
     "output_type": "execute_result"
    }
   ],
   "source": [
    "from pydub import AudioSegment\n",
    "ori_path = \"./demo_file/\" + target_wav + \".wav\"   \n",
    "infer_path = \"./demo_file/\" + infer_wav + \".wav\"\n",
    "sound = AudioSegment.from_wav(ori_path)\n",
    "sound = sound.set_frame_rate(8000)  # sample rate \n",
    "sound = sound.set_channels(1) # 改成單聲道\n",
    "sound.export(infer_path, format=\"wav\")"
   ]
  },
  {
   "cell_type": "code",
   "execution_count": 26,
   "metadata": {},
   "outputs": [],
   "source": [
    "##Infer\n",
    "audio_data, rate = sf.read(infer_path)\n",
    "Y = feature.stft(\"True\", audio_data, 200, 80)\n",
    "Y = feature.transform(Y, transform_type=\"logmel23_mn\")\n",
    "Y = feature.splice(Y, 7)\n",
    "Y = Y[::10]\n",
    "out_chunks = []\n",
    "with torch.no_grad():\n",
    "    hs = None\n",
    "    for start, end in _gen_chunk_indices(len(Y), 4000):\n",
    "        Y_chunked = torch.from_numpy(Y[start:end])\n",
    "        Y_chunked.to(device)               \n",
    "        ys = model([Y_chunked], activation=torch.sigmoid)\n",
    "        out_chunks.append(ys[0].cpu().detach().numpy())\n",
    "            \n",
    "outfname = infer_path[:-4] + '.h5'\n",
    "outdata = np.vstack(out_chunks)\n",
    "with h5py.File(outfname, 'w') as wf:\n",
    "    wf.create_dataset('T_hat', data=outdata)\n",
    "    \n",
    "##create RTTM file    \n",
    "threshold = 0.5\n",
    "median = 11\n",
    "frame_shift = 80\n",
    "subsampling = 10\n",
    "sampling_rate = 8000\n",
    "\n",
    "out_rttm_file = infer_path[:-4] + \".rttm\"\n",
    "with open(out_rttm_file, 'w') as wf:\n",
    "    session, _ = os.path.splitext(os.path.basename(outfname))\n",
    "    data = h5py.File(outfname, 'r')\n",
    "    a = np.where(data['T_hat'][:] > threshold, 1, 0)\n",
    "    if median > 1:\n",
    "        a = medfilt(a, (median, 1))\n",
    "    for spkid, frames in enumerate(a.T):\n",
    "        frames = np.pad(frames, (1, 1), 'constant')\n",
    "        changes, = np.where(np.diff(frames, axis=0) != 0)\n",
    "        fmt = \"SPEAKER {:s} 1 {:7.2f} {:7.2f} <NA> <NA> {:s} <NA>\"\n",
    "        for s, e in zip(changes[\n",
    "            ::2], changes[1::2]):\n",
    "            print(fmt.format(\n",
    "                      session,\n",
    "                      s * frame_shift * subsampling / sampling_rate,\n",
    "                      (e - s) * frame_shift * subsampling / sampling_rate,\n",
    "                      session + \"_\" + str(spkid)), file=wf)\n",
    "\n",
    "##read RTTM\n",
    "with open(out_rttm_file, 'r', encoding='utf-8') as f:\n",
    "    info = []\n",
    "    for line in f.readlines():\n",
    "        l = line.strip()\n",
    "        l = l.split(\" \")\n",
    "        a = []\n",
    "        for i in range(len(l)):\n",
    "            if(l[i] != '' and l[i] != '<NA>'): \n",
    "                a.append(l[i])    \n",
    "        info.append(a) "
   ]
  },
  {
   "cell_type": "code",
   "execution_count": 27,
   "metadata": {},
   "outputs": [
    {
     "data": {
      "application/vnd.jupyter.widget-view+json": {
       "model_id": "29a5f9ac210743f49a6ac3224cc0cc5e",
       "version_major": 2,
       "version_minor": 0
      },
      "text/plain": [
       "HBox(children=(IntProgress(value=0, max=5), HTML(value='')))"
      ]
     },
     "metadata": {},
     "output_type": "display_data"
    },
    {
     "name": "stdout",
     "output_type": "stream",
     "text": [
      "\n"
     ]
    }
   ],
   "source": [
    "# 老師要得逐字稿\n",
    "\n",
    "from tqdm.notebook import tqdm\n",
    "r = sr.Recognizer()\n",
    "WAV = sr.AudioFile(ori_path)\n",
    "transcript = []\n",
    "for i in tqdm(range(len(info))):\n",
    "    offset = float(info[i][3])\n",
    "    duration = float(info[i][4])\n",
    "    with WAV as source:\n",
    "        if(duration<0.3): continue\n",
    "        r.adjust_for_ambient_noise(source)\n",
    "        audio = r.record(source, offset=offset-1.0, duration=duration+0.5)\n",
    "        text = r.recognize_google(audio, language='zh-CN',show_all = True)\n",
    "        if text != [] : \n",
    "            text = text['alternative'][0]['transcript']\n",
    "#            print('speaker', info[i][5], '(', str(datetime.timedelta(seconds=round(offset))), 's -->',\n",
    "#                                              str(datetime.timedelta(seconds=round(offset+duration))), 's) : ', text)\n",
    "            temp = [info[i][5],offset,duration,text]\n",
    "    transcript.append(temp)\n"
   ]
  },
  {
   "cell_type": "code",
   "execution_count": 28,
   "metadata": {},
   "outputs": [
    {
     "name": "stdout",
     "output_type": "stream",
     "text": [
      "speaker 0 :  0:01  --> 0:03 請問您的編號是多少\n",
      "speaker 1 :  0:04  --> 0:05 和54088\n",
      "speaker 0 :  0:05  --> 0:08 好的請問您這兩週去了哪呢\n",
      "speaker 1 :  0:08  --> 0:12 我去過學校公司全聯茶店還有7-ELEVEN\n",
      "speaker 0 :  0:12  --> 0:13 好的謝謝\n"
     ]
    },
    {
     "data": {
      "image/png": "[encoded data removed]",
      "text/plain": [
       "<Figure size 1440x216 with 1 Axes>"
      ]
     },
     "metadata": {
      "needs_background": "light"
     },
     "output_type": "display_data"
    }
   ],
   "source": [
    "##print transcript\n",
    "transcript.sort(key = lambda s: s[1])\n",
    "for i in range(len(transcript)):\n",
    "    print('speaker', transcript[i][0][-1],': ', str(datetime.timedelta(seconds=round(transcript[i][1])))[-4:], ' -->',\n",
    "                                          str(datetime.timedelta(seconds=round(transcript[i][2]+transcript[i][1])))[-4:],\n",
    "                                          transcript[i][3])\n",
    "    \n",
    "##plot diarization figure\n",
    "import matplotlib.pyplot as plt\n",
    "import matplotlib.dates as mdates\n",
    "import numpy as np\n",
    "\n",
    "plt.figure(figsize=(20,3))\n",
    "\n",
    "for i in range(len(info)):\n",
    "    offset = float(info[i][3])\n",
    "    duration = float(info[i][4])\n",
    "    if info[i][5][-1]=='0':\n",
    "        plt.barh(0, height=1, width=duration, left=offset, color=\"blue\")\n",
    "    elif info[i][5][-1]=='1':\n",
    "        plt.barh(1, height=1, width=duration, left=offset, color=\"red\")\n",
    "\n",
    "n=2\n",
    "plt.yticks(np.arange(n), ['Interviewer', 'Interviewee'])\n",
    "plt.xticks(np.arange(0, (len(audio_data)/rate)+5, step=5))\n",
    "plt.xlabel(\"Seconds\")\n",
    "plt.show()"
   ]
  }
 ],
 "metadata": {
  "kernelspec": {
   "display_name": "Python 3",
   "language": "python",
   "name": "python3"
  },
  "language_info": {
   "codemirror_mode": {
    "name": "ipython",
    "version": 3
   },
   "file_extension": ".py",
   "mimetype": "text/x-python",
   "name": "python",
   "nbconvert_exporter": "python",
   "pygments_lexer": "ipython3",
   "version": "3.6.9"
  }
 },
 "nbformat": 4,
 "nbformat_minor": 4
}
