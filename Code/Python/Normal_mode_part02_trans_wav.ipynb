{
 "cells": [
  {
   "cell_type": "code",
   "execution_count": 1,
   "metadata": {},
   "outputs": [],
   "source": [
    "from scipy.io.wavfile import write\n",
    "import numpy as np\n",
    "\n",
    "samplerate = 16000"
   ]
  },
  {
   "cell_type": "code",
   "execution_count": 2,
   "metadata": {},
   "outputs": [
    {
     "name": "stdout",
     "output_type": "stream",
     "text": [
      "[[ 0.00000e+00 -1.66400e+03 -1.92000e+03]\n",
      " [ 0.00000e+00 -1.66400e+03 -1.92000e+03]\n",
      " [ 1.00000e+00 -1.79200e+03 -2.04800e+03]\n",
      " ...\n",
      " [ 1.06704e+05  7.68000e+02  1.02400e+03]\n",
      " [ 1.06705e+05  8.96000e+02  1.02400e+03]\n",
      " [ 1.06705e+05  8.96000e+02  1.02400e+03]]\n"
     ]
    }
   ],
   "source": [
    "data_input = np.genfromtxt(\"recording_a.txt\", delimiter=',')  \n",
    "print(data_input)"
   ]
  },
  {
   "cell_type": "code",
   "execution_count": 3,
   "metadata": {},
   "outputs": [
    {
     "name": "stdout",
     "output_type": "stream",
     "text": [
      "[[ 0.00000e+00  0.00000e+00  1.00000e+00 ...  1.06704e+05  1.06705e+05\n",
      "   1.06705e+05]\n",
      " [-1.66400e+03 -1.66400e+03 -1.79200e+03 ...  7.68000e+02  8.96000e+02\n",
      "   8.96000e+02]\n",
      " [-1.92000e+03 -1.92000e+03 -2.04800e+03 ...  1.02400e+03  1.02400e+03\n",
      "   1.02400e+03]]\n"
     ]
    }
   ],
   "source": [
    "data_input = data_input.T\n",
    "print(data_input)"
   ]
  },
  {
   "cell_type": "code",
   "execution_count": 4,
   "metadata": {},
   "outputs": [
    {
     "name": "stdout",
     "output_type": "stream",
     "text": [
      "[0.00000e+00 0.00000e+00 1.00000e+00 ... 1.06704e+05 1.06705e+05\n",
      " 1.06705e+05]\n"
     ]
    }
   ],
   "source": [
    "data_serial_number = data_input[0]\n",
    "print(data_serial_number)"
   ]
  },
  {
   "cell_type": "code",
   "execution_count": 5,
   "metadata": {},
   "outputs": [
    {
     "name": "stdout",
     "output_type": "stream",
     "text": [
      "[-1664. -1664. -1792. ...   768.   896.   896.]\n"
     ]
    }
   ],
   "source": [
    "left_channel = data_input[1]\n",
    "print(left_channel)"
   ]
  },
  {
   "cell_type": "code",
   "execution_count": 6,
   "metadata": {},
   "outputs": [
    {
     "name": "stdout",
     "output_type": "stream",
     "text": [
      "[-1920. -1920. -2048. ...  1024.  1024.  1024.]\n"
     ]
    }
   ],
   "source": [
    "right_channel = data_input[2]\n",
    "print(right_channel)"
   ]
  },
  {
   "cell_type": "code",
   "execution_count": 7,
   "metadata": {},
   "outputs": [
    {
     "name": "stdout",
     "output_type": "stream",
     "text": [
      "[-1792. -1792. -1920. ...   896.   960.   960.]\n"
     ]
    }
   ],
   "source": [
    "dual_channel = left_channel + right_channel\n",
    "dual_channel = dual_channel / 2\n",
    "print(dual_channel)"
   ]
  },
  {
   "cell_type": "code",
   "execution_count": 8,
   "metadata": {},
   "outputs": [],
   "source": [
    "write(\"Recording_0724.wav\", samplerate, dual_channel.astype(np.int16))"
   ]
  },
  {
   "cell_type": "code",
   "execution_count": null,
   "metadata": {},
   "outputs": [],
   "source": []
  },
  {
   "cell_type": "code",
   "execution_count": null,
   "metadata": {},
   "outputs": [],
   "source": []
  },
  {
   "cell_type": "code",
   "execution_count": null,
   "metadata": {},
   "outputs": [],
   "source": []
  }
 ],
 "metadata": {
  "kernelspec": {
   "display_name": "Python 3",
   "language": "python",
   "name": "python3"
  },
  "language_info": {
   "codemirror_mode": {
    "name": "ipython",
    "version": 3
   },
   "file_extension": ".py",
   "mimetype": "text/x-python",
   "name": "python",
   "nbconvert_exporter": "python",
   "pygments_lexer": "ipython3",
   "version": "3.7.5"
  }
 },
 "nbformat": 4,
 "nbformat_minor": 4
}
