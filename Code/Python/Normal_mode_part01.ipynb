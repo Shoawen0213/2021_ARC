{
 "cells": [
  {
   "cell_type": "code",
   "execution_count": 1,
   "metadata": {},
   "outputs": [],
   "source": [
    "import serial\n",
    "COM_PORT = 'COM3'    # 指定通訊埠名稱\n",
    "#BAUD_RATES = 115200    # 設定傳輸速率\n",
    "BAUD_RATES = 460800    # 設定傳輸速率\n",
    "ser = serial.Serial(COM_PORT, BAUD_RATES)   # 初始化序列通訊埠"
   ]
  },
  {
   "cell_type": "code",
   "execution_count": 2,
   "metadata": {},
   "outputs": [
    {
     "data": {
      "text/plain": [
       "1"
      ]
     },
     "execution_count": 2,
     "metadata": {},
     "output_type": "execute_result"
    }
   ],
   "source": [
    "ser.write(\"A\".encode('utf_8'))"
   ]
  },
  {
   "cell_type": "code",
   "execution_count": 3,
   "metadata": {},
   "outputs": [],
   "source": [
    "ls = []"
   ]
  },
  {
   "cell_type": "code",
   "execution_count": 4,
   "metadata": {},
   "outputs": [],
   "source": [
    "from time import sleep\n",
    "from tqdm import tqdm, trange"
   ]
  },
  {
   "cell_type": "markdown",
   "metadata": {},
   "source": [
    "## Sample rate:8000\n",
    "- byte transmitting\n",
    "- length:114000"
   ]
  },
  {
   "cell_type": "code",
   "execution_count": 5,
   "metadata": {
    "scrolled": true
   },
   "outputs": [
    {
     "name": "stderr",
     "output_type": "stream",
     "text": [
      "100%|████████████████████████████████████████████████████████████████████████| 105000/105000 [01:00<00:00, 1744.15it/s]\n"
     ]
    }
   ],
   "source": [
    "# Normal mode\n",
    "temp =  ser.readline()\n",
    "for i in tqdm(range(105000)):\n",
    "#     sleep(0.01)\n",
    "    ls.append(temp)\n",
    "    temp =  ser.readline()"
   ]
  },
  {
   "cell_type": "code",
   "execution_count": 6,
   "metadata": {},
   "outputs": [],
   "source": [
    "ser.close()"
   ]
  },
  {
   "cell_type": "code",
   "execution_count": 7,
   "metadata": {},
   "outputs": [],
   "source": [
    "tran_ls = ls[3:]"
   ]
  },
  {
   "cell_type": "code",
   "execution_count": 8,
   "metadata": {},
   "outputs": [],
   "source": [
    "for i in range(len(tran_ls)):\n",
    "    tran_ls[i] = tran_ls[i][:-2].decode('utf-8')"
   ]
  },
  {
   "cell_type": "code",
   "execution_count": 9,
   "metadata": {},
   "outputs": [],
   "source": [
    "split_ls = []\n",
    "skip_ls = []\n",
    "for i in range(len(tran_ls)):\n",
    "    #print(i)\n",
    "    split_ls = tran_ls[i].split(\",\")\n",
    "    if len(split_ls) == 3 and split_ls[0]!=\"\" and split_ls[1]!='' and split_ls[2]!='' and len(split_ls[2])<9:\n",
    "        split_ls[0] = int(split_ls[0],16)\n",
    "        for j in range(1,3):\n",
    "            split_ls[j] = int(split_ls[j],16)\n",
    "            if (split_ls[j] & (1 << (32 - 1))) != 0:\n",
    "                split_ls[j] = split_ls[j] - (1 << 32) \n",
    "            split_ls[j] = split_ls[j]*128\n",
    "        tran_ls[i] = str(split_ls)\n",
    "        tran_ls[i] = tran_ls[i][1:-1]\n",
    "    else :\n",
    "        skip_ls.append(i)"
   ]
  },
  {
   "cell_type": "code",
   "execution_count": 10,
   "metadata": {},
   "outputs": [],
   "source": [
    "j=0\n",
    "for i in skip_ls:\n",
    "    tran_ls.pop(i-j)\n",
    "    j=j+1"
   ]
  },
  {
   "cell_type": "code",
   "execution_count": 11,
   "metadata": {},
   "outputs": [],
   "source": [
    "fout = open(\"recording_a.txt\",\"w\")\n",
    "for i in range(len(tran_ls)):\n",
    "    fout.write(tran_ls[i]+\"\\n\")\n",
    "    fout.write(tran_ls[i]+\"\\n\")\n",
    "#     fout.write(tran_ls[i]+\"\\n\")\n",
    "#     fout.write(tran_ls[i]+\"\\n\")\n",
    "fout.close()"
   ]
  },
  {
   "cell_type": "code",
   "execution_count": null,
   "metadata": {},
   "outputs": [],
   "source": []
  },
  {
   "cell_type": "code",
   "execution_count": null,
   "metadata": {},
   "outputs": [],
   "source": []
  },
  {
   "cell_type": "code",
   "execution_count": null,
   "metadata": {},
   "outputs": [],
   "source": []
  }
 ],
 "metadata": {
  "kernelspec": {
   "display_name": "Python 3",
   "language": "python",
   "name": "python3"
  },
  "language_info": {
   "codemirror_mode": {
    "name": "ipython",
    "version": 3
   },
   "file_extension": ".py",
   "mimetype": "text/x-python",
   "name": "python",
   "nbconvert_exporter": "python",
   "pygments_lexer": "ipython3",
   "version": "3.7.5"
  }
 },
 "nbformat": 4,
 "nbformat_minor": 2
}
